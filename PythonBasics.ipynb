{
  "nbformat": 4,
  "nbformat_minor": 0,
  "metadata": {
    "colab": {
      "provenance": []
    },
    "kernelspec": {
      "name": "python3",
      "display_name": "Python 3"
    },
    "language_info": {
      "name": "python"
    }
  },
  "cells": [
    {
      "cell_type": "markdown",
      "source": [
        "# Python Basics Assignment"
      ],
      "metadata": {
        "id": "rJGmg3byFfJN"
      }
    },
    {
      "cell_type": "markdown",
      "source": [
        "\n",
        "\n",
        "1. What is Python, and why is it popular?\n",
        " - Python is a programming language, it was created by Guido van Rossum and first released in 1991.\n",
        "  It is popular because it is easy to understand and write and also beacuse of its versatility to be used in web development, machine learning and many more.\n",
        "\n",
        "2.  What is an interpreter in Python?\n",
        " - An interpreter in python is like a translator that helps your computer understand and run Python code. When we write Python code, the interpreter takes it one line at a time, translates it into a language the computer understands, and executes it right away.\n",
        "\n",
        "3.  What are pre-defined keywords in Python?\n",
        " - Pre-defined keywords are words that hold a specific meaning and have specific purpose in python programming and cannot be used as identifiers.\n",
        "\n",
        "4. Can keywords be used as variable names?\n",
        " - No, keywords cannot be used as variable names.\n",
        "\n",
        "5.  What is mutability in Python?\n",
        " - Objects/container whose state or value can be changed after they are created are called as mutable objects or container.\n",
        " Examples - list and dictionaries.\n",
        "\n",
        "6.  Why are lists mutable, but tuples are immutable?\n",
        " -  Lists are designed to be flexible and are used for collections of items that may change over time. For example, you might add, remove, or change elements in a list, making it mutable.\n",
        " -  Tuples, on the other hand, are designed to represent fixed collections of items that shouldn't change once they are created. This immutability makes them ideal for use cases where data integrity is important, such as representing coordinates, records, or fixed configurations.\n",
        "\n",
        "7.  What is the difference between “==” and “is” operators in Python?\n",
        " - The '==' operator checks if two objects have the same value.\n",
        " - The 'is' operator checks if they are the same object in memory.\n",
        " - We use '==' for comparing values and 'is' for checking object identity.\n",
        "\n",
        "8.  What are logical operators in Python?\n",
        " -\n",
        "Logical operators in Python are used to combine or modify boolean expressions. They allow you to perform logical operations like AND, OR, and NOT.\n",
        "\n",
        "9.  What is type casting in Python?\n",
        " - The process of changing one data type of value/object to another in Python is called Type casting.\n",
        "\n",
        "10.  What is the difference between implicit and explicit type casting?\n",
        " - Implicit type casting is when Python automatically converts one data type to another.\n",
        " - Explicit type casting is to convert datatype using inbuilt function like int, str, float,bool.\n",
        "\n",
        "11.  What is the purpose of conditional statements in Python?\n",
        " - Conditionals statements helps us to code decisions based on some preconditions.\n",
        "\n",
        "12.  How does the elif statement work?\n",
        " - The 'elif' statement in Python is used to check multiple conditions in a sequence.\n",
        " -It works:\n",
        " - The if statement checks the first condition.\n",
        " -  If the if condition is True, the code block under if executes, and the rest of the elif and else are ignored.\n",
        " - If the if condition is False, Python moves on to the next elif condition and checks it.\n",
        " -If an elif condition is True, its code block executes, and the rest of the elif and else are skipped.\n",
        " -If none of the if or elif conditions are true, the code under else runs.\n",
        "\n",
        "13.  What is the difference between for and while loops?\n",
        " - A 'for' loop is typically used when you know how many times you want the loop to run. It's perfect for situations where you're working with a collection of items, like a list, array, or a specific range of numbers.\n",
        " - A 'while' loop is helpful when you want the loop to keep running as long as a certain condition is true.\n",
        "\n",
        "14.  Describe a scenario where a while loop is more suitable than a for loop.\n",
        " - A while loop is more suitable when the number of iterations depends on a condition that may change over time, and you can't predict how many times the loop will run in advance.\n",
        " - For example -  Writing a program where you need to make sure the user enters the correct password. You don't know how many tries it will take, so the program should keep asking for the password until it's correct. In this case, a while loop is perfect because it keeps checking if the password is right, and as long as the user keeps entering the wrong one, it will keep asking. Once the correct password is entered, the loop stops, and access is granted."
      ],
      "metadata": {
        "id": "7CjUstovNhAX"
      }
    },
    {
      "cell_type": "code",
      "source": [
        "#1  Write a Python program to print \"Hello, World!\".\n",
        "\n",
        "print(\"Hello, World!\")"
      ],
      "metadata": {
        "colab": {
          "base_uri": "https://localhost:8080/"
        },
        "id": "WB64s2UJrP4k",
        "outputId": "a7de1864-b1e1-4708-ccab-02d881c44c74"
      },
      "execution_count": null,
      "outputs": [
        {
          "output_type": "stream",
          "name": "stdout",
          "text": [
            "Hello, World!\n"
          ]
        }
      ]
    },
    {
      "cell_type": "code",
      "source": [
        "#2  Write a Python program that displays your name and age.\n",
        "\n",
        "print('Aarav Singh, Age-20')"
      ],
      "metadata": {
        "colab": {
          "base_uri": "https://localhost:8080/"
        },
        "id": "g5g6IQ2urvSf",
        "outputId": "0eb69ac9-6af0-4c62-edbe-15786628ada8"
      },
      "execution_count": null,
      "outputs": [
        {
          "output_type": "stream",
          "name": "stdout",
          "text": [
            "Aarav Singh, Age-20\n"
          ]
        }
      ]
    },
    {
      "cell_type": "code",
      "source": [
        "#3 Write code to print all the pre-defined keywords in Python using the keyword library.\n",
        "\n",
        "import keyword\n",
        "print(keyword.kwlist)\n"
      ],
      "metadata": {
        "colab": {
          "base_uri": "https://localhost:8080/"
        },
        "id": "DowTke6ssELF",
        "outputId": "abdfd150-6135-476b-af6f-5b74fb3b4cea"
      },
      "execution_count": null,
      "outputs": [
        {
          "output_type": "stream",
          "name": "stdout",
          "text": [
            "['False', 'None', 'True', 'and', 'as', 'assert', 'async', 'await', 'break', 'class', 'continue', 'def', 'del', 'elif', 'else', 'except', 'finally', 'for', 'from', 'global', 'if', 'import', 'in', 'is', 'lambda', 'nonlocal', 'not', 'or', 'pass', 'raise', 'return', 'try', 'while', 'with', 'yield']\n"
          ]
        }
      ]
    },
    {
      "cell_type": "code",
      "source": [
        "#4  Write a program that checks if a given word is a Python keyword.\n",
        "\n",
        "import keyword\n",
        "word = input('Enter a word:')\n",
        "if keyword.iskeyword(word):\n",
        "  print(f\"('word')is a python keyword.\")\n",
        "else:\n",
        "  print(f\"('word')is not a python keyword.\")\n",
        "\n",
        "\n",
        "\n"
      ],
      "metadata": {
        "colab": {
          "base_uri": "https://localhost:8080/"
        },
        "id": "bldyPN1Msv2-",
        "outputId": "db5290d4-b9b0-4231-f827-d43abad3c4bd"
      },
      "execution_count": null,
      "outputs": [
        {
          "output_type": "stream",
          "name": "stdout",
          "text": [
            "Enter a word:class\n",
            "('word')is a python keyword.\n"
          ]
        }
      ]
    },
    {
      "cell_type": "code",
      "source": [
        "#5  Create a list and tuple in Python, and demonstrate how attempting to change an element works differently for each.\n",
        "\n",
        "# Creating a list\n",
        "my_list = [1, 2, 3, 4]\n",
        "\n",
        "# Creating a tuple\n",
        "my_tuple = (1, 2, 3, 4)\n",
        "\n",
        "# Attempt to change an element in the list\n",
        "print(\"Original list:\", my_list)\n",
        "my_list[2] = 10  # Changing the 3rd element (index 2) to 100\n",
        "print(\"Updated list:\", my_list)\n",
        "\n",
        "# Attempt to change an element in the tuple\n",
        "print(\"Original tuple:\", my_tuple)\n",
        "try:\n",
        "    my_tuple[2] = 10  # Trying to change the 3rd element (index 2)\n",
        "except TypeError as a:\n",
        "    print(\"Error:\", a)\n"
      ],
      "metadata": {
        "colab": {
          "base_uri": "https://localhost:8080/"
        },
        "id": "zYGMGdpNu2rI",
        "outputId": "039eb3c8-715f-4531-fa30-b4f08a49919a"
      },
      "execution_count": null,
      "outputs": [
        {
          "output_type": "stream",
          "name": "stdout",
          "text": [
            "Original list: [1, 2, 3, 4]\n",
            "Updated list: [1, 2, 10, 4]\n",
            "Original tuple: (1, 2, 3, 4)\n",
            "Error: 'tuple' object does not support item assignment\n"
          ]
        }
      ]
    },
    {
      "cell_type": "markdown",
      "source": [],
      "metadata": {
        "id": "lapVnsmGrKkX"
      }
    },
    {
      "cell_type": "code",
      "source": [
        "#6  Write a function to demonstrate the behavior of mutable and immutable arguments.\n",
        "\n",
        "def demo(mutable, immutable):\n",
        "    mutable.append(10)  # Modify mutable (list)\n",
        "    immutable += 5      # Modify immutable (integer)\n",
        "    print(\"Mutable:\", mutable)  # List is modified\n",
        "    print(\"Immutable:\", immutable)  # Integer is not modified\n",
        "\n",
        "# Example usage\n",
        "my_list = [1, 2, 3]\n",
        "my_number = 10\n",
        "demo(my_list, my_number)\n",
        "print(\"Outside:\", my_list, my_number)  # List modified, number not modified\n"
      ],
      "metadata": {
        "colab": {
          "base_uri": "https://localhost:8080/"
        },
        "id": "WOSH-Dh1zHzF",
        "outputId": "317cd0e9-387f-4107-d69c-02dd35009433"
      },
      "execution_count": null,
      "outputs": [
        {
          "output_type": "stream",
          "name": "stdout",
          "text": [
            "Mutable: [1, 2, 3, 10]\n",
            "Immutable: 15\n",
            "Outside: [1, 2, 3, 10] 10\n"
          ]
        }
      ]
    },
    {
      "cell_type": "code",
      "source": [
        "#7  Write a function to demonstrate the behavior of mutable and immutable arguments.\n",
        "\n",
        "def demo(mutable, immutable):\n",
        "    mutable.append(10)  # Modify mutable (list)\n",
        "    immutable += 5      # Modify immutable (integer)\n",
        "    print(\"Mutable:\", mutable)  # List is modified\n",
        "    print(\"Immutable:\", immutable)  # Integer is not modified\n",
        "\n",
        "# Example usage\n",
        "my_list = [1, 2, 3]\n",
        "my_number = 10\n",
        "demo(my_list, my_number)\n",
        "print(\"Outside:\", my_list, my_number)  # List modified, number not modified\n",
        "\n",
        "\n"
      ],
      "metadata": {
        "colab": {
          "base_uri": "https://localhost:8080/"
        },
        "id": "9Zr1tvmf0Zas",
        "outputId": "b2561a7f-d3da-4032-93e2-c94e37a77a69"
      },
      "execution_count": null,
      "outputs": [
        {
          "output_type": "stream",
          "name": "stdout",
          "text": [
            "Mutable: [1, 2, 3, 10]\n",
            "Immutable: 15\n",
            "Outside: [1, 2, 3, 10] 10\n"
          ]
        }
      ]
    },
    {
      "cell_type": "code",
      "source": [
        "#8 Write a program to demonstrate the use of logical operators.\n",
        "\n",
        "def logical_operations(x, y):\n",
        "    print(f\"x = {x}, y = {y}\")\n",
        "    print(\"x > 5 and y < 10:\", x > 5 and y < 10)  # True if both conditions are true\n",
        "    print(\"x > 5 or y > 10:\", x > 5 or y > 10)    # True if at least one condition is true\n",
        "    print(\"not(x > 5):\", not(x > 5))                # Reverses the truth value of the condition\n",
        "\n",
        "logical_operations(7, 3)\n"
      ],
      "metadata": {
        "colab": {
          "base_uri": "https://localhost:8080/"
        },
        "id": "omsGAdYY6LVj",
        "outputId": "e6047fdd-9d0a-46ec-9377-276d7d2bdec7"
      },
      "execution_count": 46,
      "outputs": [
        {
          "output_type": "stream",
          "name": "stdout",
          "text": [
            "x = 7, y = 3\n",
            "x > 5 and y < 10: True\n",
            "x > 5 or y > 10: True\n",
            "not(x > 5): False\n"
          ]
        }
      ]
    },
    {
      "cell_type": "code",
      "source": [
        "#9  Write a Python program to convert user input from string to integer, float, and boolean types.\n",
        "\n",
        "user_input = input(\"Enter a value: \")\n",
        "\n",
        "try:\n",
        "    integer_value = int(user_input)\n",
        "    print(f\"Integer: {integer_value}\")\n",
        "except ValueError:\n",
        "    print(\"Cannot convert to integer.\")\n",
        "\n",
        "try:\n",
        "    float_value = float(user_input)\n",
        "    print(f\"Float: {float_value}\")\n",
        "except ValueError:\n",
        "    print(\"Cannot convert to float.\")\n",
        "\n",
        "boolean_value = user_input.lower() in ['true', '1', 't', 'y', 'yes']\n",
        "print(f\"Boolean: {boolean_value}\")\n",
        "\n"
      ],
      "metadata": {
        "id": "FVonua-Q_vn4",
        "colab": {
          "base_uri": "https://localhost:8080/"
        },
        "outputId": "18185aa4-6edc-480c-92a5-8eaa16aeade5"
      },
      "execution_count": 44,
      "outputs": [
        {
          "output_type": "stream",
          "name": "stdout",
          "text": [
            "Enter a value: 18\n",
            "Integer: 18\n",
            "Float: 18.0\n",
            "Boolean: False\n"
          ]
        }
      ]
    },
    {
      "cell_type": "code",
      "source": [
        "#10  Write code to demonstrate type casting with list elements.\n",
        "\n",
        "mixed_list = ['10', '3.14', 'True', '100']\n",
        "\n",
        "# Type casting: int, float, bool\n",
        "int_list = [int(i) if i.isdigit() else 0 for i in mixed_list]\n",
        "float_list = [float(i) if i.replace('.', '', 1).isdigit() else 0.0 for i in mixed_list]\n",
        "bool_list = [i.lower() in ['true', '1', 't', 'y', 'yes'] for i in mixed_list]\n",
        "\n",
        "print(\"Integers:\", int_list)\n",
        "print(\"Floats:\", float_list)\n",
        "print(\"Booleans:\", bool_list)\n"
      ],
      "metadata": {
        "id": "GBq8SnfBA-pd",
        "colab": {
          "base_uri": "https://localhost:8080/"
        },
        "outputId": "1d72fcde-c271-4da9-ffbd-ddac9bfb520b"
      },
      "execution_count": 48,
      "outputs": [
        {
          "output_type": "stream",
          "name": "stdout",
          "text": [
            "Integers: [10, 0, 0, 100]\n",
            "Floats: [10.0, 3.14, 0.0, 100.0]\n",
            "Booleans: [False, False, True, False]\n"
          ]
        }
      ]
    },
    {
      "cell_type": "code",
      "source": [
        "#11  Write a program that checks if a number is positive, negative, or zero.\n",
        "\n",
        "number = float(input(\"Enter a number: \"))\n",
        "\n",
        "if number > 0:\n",
        "    print(\"The number is positive.\")\n",
        "elif number < 0:\n",
        "    print(\"The number is negative.\")\n",
        "else:\n",
        "    print(\"The number is zero.\")\n"
      ],
      "metadata": {
        "colab": {
          "base_uri": "https://localhost:8080/"
        },
        "id": "10MqPzarHKyw",
        "outputId": "2ea98478-d435-4fe7-eed2-0a7fa0986c08"
      },
      "execution_count": 53,
      "outputs": [
        {
          "output_type": "stream",
          "name": "stdout",
          "text": [
            "Enter a number: 5.5\n",
            "The number is positive.\n"
          ]
        }
      ]
    },
    {
      "cell_type": "code",
      "source": [
        "#12 Write a for loop to print numbers from 1 to 10.\n",
        "\n",
        "for i in range (1,11):\n",
        "  print(i)"
      ],
      "metadata": {
        "colab": {
          "base_uri": "https://localhost:8080/"
        },
        "id": "uk0k9zKxIFQU",
        "outputId": "d01c3e04-e373-4661-df0a-f910d0964053"
      },
      "execution_count": 55,
      "outputs": [
        {
          "output_type": "stream",
          "name": "stdout",
          "text": [
            "1\n",
            "2\n",
            "3\n",
            "4\n",
            "5\n",
            "6\n",
            "7\n",
            "8\n",
            "9\n",
            "10\n"
          ]
        }
      ]
    },
    {
      "cell_type": "code",
      "source": [
        "#13  Write a Python program to find the sum of all even numbers between 1 and 50.\\\n",
        "\n",
        "sum_of_even = 0\n",
        "for i in range(1, 51):\n",
        "    if i % 2 == 0:\n",
        "        sum_of_even += i\n",
        "print(\"Sum of even numbers between 1 and 50:\", sum_of_even)\n"
      ],
      "metadata": {
        "colab": {
          "base_uri": "https://localhost:8080/"
        },
        "id": "e4Og2tirIZf4",
        "outputId": "46a86fa7-6dad-49d3-a5b4-ec4db0942d60"
      },
      "execution_count": 62,
      "outputs": [
        {
          "output_type": "stream",
          "name": "stdout",
          "text": [
            "Sum of even numbers between 1 and 50: 650\n"
          ]
        }
      ]
    },
    {
      "cell_type": "code",
      "source": [
        "#14  Write a program to reverse a string using a while loop.\n",
        "\n",
        "input_string = input(\"Enter a string: \")\n",
        "\n",
        "reversed_string = \"\"\n",
        "index = len(input_string) - 1\n",
        "\n",
        "while index >= 0:\n",
        "    reversed_string += input_string[index]\n",
        "    index -= 1\n",
        "\n",
        "print(\"Reversed string:\", reversed_string)\n",
        "\n"
      ],
      "metadata": {
        "colab": {
          "base_uri": "https://localhost:8080/"
        },
        "id": "ZgtYtE3ZKapg",
        "outputId": "c430b078-ba60-4218-d6dd-1386bb3b6a1a"
      },
      "execution_count": 64,
      "outputs": [
        {
          "output_type": "stream",
          "name": "stdout",
          "text": [
            "Enter a string: 18\n",
            "Reversed string: 81\n"
          ]
        }
      ]
    },
    {
      "cell_type": "code",
      "source": [
        "#15  Write a Python program to calculate the factorial of a number provided by the user using a while loop.\n",
        "\n",
        "num = int(input(\"Enter a number: \"))\n",
        "factorial = 1\n",
        "i = 1\n",
        "while i <= num:\n",
        "    factorial *= i\n",
        "    i += 1\n",
        "print(f\"Factorial of {num} is {factorial}\")\n",
        "\n"
      ],
      "metadata": {
        "colab": {
          "base_uri": "https://localhost:8080/"
        },
        "id": "eY5I5BSELZP5",
        "outputId": "e8b80f17-9703-40f9-f253-d0abdbe4ac78"
      },
      "execution_count": 66,
      "outputs": [
        {
          "output_type": "stream",
          "name": "stdout",
          "text": [
            "Enter a number: 5\n",
            "Factorial of 5 is 120\n"
          ]
        }
      ]
    }
  ]
}